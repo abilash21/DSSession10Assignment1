{
 "cells": [
  {
   "cell_type": "code",
   "execution_count": 3,
   "metadata": {
    "collapsed": true
   },
   "outputs": [],
   "source": [
    "import numpy as np"
   ]
  },
  {
   "cell_type": "code",
   "execution_count": 24,
   "metadata": {
    "collapsed": true
   },
   "outputs": [],
   "source": [
    "import numpy as np\n",
    "from numpy import convolve\n",
    " \n",
    "def getMovingAvgConv (values, k):\n",
    "    weights = np.repeat(1.0, k)/k\n",
    "    #print(np.repeat(1.0, k))\n",
    "    #print(weights)\n",
    "    mvAvg = np.convolve(values, weights, 'valid')\n",
    "    return mvAvg"
   ]
  },
  {
   "cell_type": "code",
   "execution_count": 26,
   "metadata": {
    "collapsed": true
   },
   "outputs": [],
   "source": [
    "def getMovingAvgNormal(a, k):\n",
    "    n = len(a)\n",
    "    for i in range(n-k+1):\n",
    "        b=a[i:i+k]\n",
    "        print(np.mean(a[i:k+i]))\n",
    "        "
   ]
  },
  {
   "cell_type": "code",
   "execution_count": 33,
   "metadata": {},
   "outputs": [
    {
     "name": "stdout",
     "output_type": "stream",
     "text": [
      "5.0\n",
      "4.66666666667\n",
      "5.66666666667\n",
      "6.66666666667\n",
      "9.66666666667\n",
      "28.6666666667\n",
      "49.3333333333\n",
      "72.6666666667\n",
      "84.0\n",
      "93.3333333333\n",
      "116.333333333\n"
     ]
    },
    {
     "data": {
      "text/plain": [
       "array([   5.        ,    4.66666667,    5.66666667,    6.66666667,\n",
       "          9.66666667,   28.66666667,   49.33333333,   72.66666667,\n",
       "         84.        ,   93.33333333,  116.33333333])"
      ]
     },
     "execution_count": 33,
     "metadata": {},
     "output_type": "execute_result"
    }
   ],
   "source": [
    "\n",
    "\n",
    "a = np.array([3, 5, 7, 2, 8, 10, 11, 65, 72, 81, 99, 100, 150])\n",
    "k =3\n",
    "\n",
    "getMovingAvgNormal(a,k)\n",
    "\n",
    "\n",
    "getMovingAvgConv(a,k)\n"
   ]
  },
  {
   "cell_type": "code",
   "execution_count": 31,
   "metadata": {},
   "outputs": [
    {
     "name": "stdout",
     "output_type": "stream",
     "text": [
      "25.0\n",
      "35.0\n",
      "45.0\n",
      "55.0\n",
      "65.0\n",
      "75.0\n",
      "85.0\n"
     ]
    },
    {
     "data": {
      "text/plain": [
       "array([ 25.,  35.,  45.,  55.,  65.,  75.,  85.])"
      ]
     },
     "execution_count": 31,
     "metadata": {},
     "output_type": "execute_result"
    }
   ],
   "source": [
    "a= np.array([10, 20, 30, 40, 50, 60, 70, 80, 90 ,100])\n",
    "k = 4\n",
    "getMovingAvgNormal(a,k)\n",
    "getMovingAvgConv(a,k)"
   ]
  },
  {
   "cell_type": "code",
   "execution_count": null,
   "metadata": {
    "collapsed": true
   },
   "outputs": [],
   "source": []
  },
  {
   "cell_type": "code",
   "execution_count": null,
   "metadata": {
    "collapsed": true
   },
   "outputs": [],
   "source": []
  }
 ],
 "metadata": {
  "kernelspec": {
   "display_name": "Python 3",
   "language": "python",
   "name": "python3"
  },
  "language_info": {
   "codemirror_mode": {
    "name": "ipython",
    "version": 3
   },
   "file_extension": ".py",
   "mimetype": "text/x-python",
   "name": "python",
   "nbconvert_exporter": "python",
   "pygments_lexer": "ipython3",
   "version": "3.6.3"
  }
 },
 "nbformat": 4,
 "nbformat_minor": 2
}
